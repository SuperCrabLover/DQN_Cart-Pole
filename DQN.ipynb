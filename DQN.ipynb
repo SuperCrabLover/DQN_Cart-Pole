{
  "cells": [
    {
      "cell_type": "markdown",
      "metadata": {
        "id": "view-in-github",
        "colab_type": "text"
      },
      "source": [
        "<a href=\"https://colab.research.google.com/github/SuperCrabLover/DQN_Cart-Pole/blob/main/DQN.ipynb\" target=\"_parent\"><img src=\"https://colab.research.google.com/assets/colab-badge.svg\" alt=\"Open In Colab\"/></a>"
      ]
    },
    {
      "cell_type": "code",
      "execution_count": 1,
      "metadata": {
        "id": "MytEX6JHQyuY"
      },
      "outputs": [],
      "source": [
        "import gym\n",
        "import random\n",
        "import numpy as np\n",
        "import matplotlib\n",
        "import matplotlib.pyplot as plt\n",
        "from PIL import Image\n",
        "\n",
        "import torch\n",
        "import torch.nn as nn\n",
        "import torch.optim as optim\n",
        "import torch.nn.functional as F\n",
        "import torchvision.transforms as T"
      ]
    },
    {
      "cell_type": "code",
      "execution_count": 2,
      "metadata": {
        "colab": {
          "base_uri": "https://localhost:8080/"
        },
        "id": "NvSEEfZwQ-36",
        "outputId": "990d288a-e5e1-4e8d-edd5-60dd0671b38f"
      },
      "outputs": [
        {
          "output_type": "stream",
          "name": "stdout",
          "text": [
            "cpu\n"
          ]
        }
      ],
      "source": [
        "device = torch.device(\"cuda\" if torch.cuda.is_available() else \"cpu\")\n",
        "print(device)"
      ]
    },
    {
      "cell_type": "code",
      "execution_count": 3,
      "metadata": {
        "id": "13T-0AZSReuO"
      },
      "outputs": [],
      "source": [
        "from numpy.random.mtrand import rand\n",
        "class Logger():\n",
        "  \n",
        "  def __init__(self, size):\n",
        "    self._len = 0\n",
        "    self._logs = []\n",
        "    self._maxlen = size\n",
        "  \n",
        "  def add_log(self, log):\n",
        "    if (self._len + 1 > self._maxlen):\n",
        "      self._logs = self._logs[int(self._len / 2):]\n",
        "      self._len = len(self._logs)\n",
        "    self._logs.append(log)\n",
        "    self._len += 1\n",
        "  \n",
        "  def sample_logs(self, batch_size):\n",
        "    if (batch_size > self._len):\n",
        "      raise ValueError\n",
        "    rand_log_inds = random.sample(range(0, self._len), batch_size)\n",
        "    temp_np_logs = np.array(self._logs)\n",
        "    samples = temp_np_logs[rand_log_inds]\n",
        "    return np.array([i[0] for i in samples]), np.array([i[1] for i in samples]), np.array([i[2] for i in samples]), np.array([i[3] for i in samples]), np.array([i[4] for i in samples])\n",
        "  \n",
        "  def is_ready(self, batch_size):\n",
        "    return self._len >= batch_size"
      ]
    },
    {
      "cell_type": "code",
      "execution_count": 4,
      "metadata": {
        "id": "U0om3e39UfzO"
      },
      "outputs": [],
      "source": [
        "class QModel(nn.Module):\n",
        "  def __init__(self, state_dim, action_dim, hidden):\n",
        "    super().__init__()\n",
        "\n",
        "    self.net = nn.Sequential(\n",
        "      nn.Linear(state_dim, hidden),\n",
        "      nn.Tanh(),\n",
        "      nn.Linear(hidden, hidden),\n",
        "      nn.Tanh(),\n",
        "      nn.Linear(hidden, action_dim),\n",
        "      nn.ReLU()\n",
        "    )\n",
        "\n",
        "  def forward(self, x):\n",
        "    x = x.to(device)\n",
        "    return self.net(x)"
      ]
    },
    {
      "cell_type": "code",
      "execution_count": 5,
      "metadata": {
        "id": "xRm5gcEQZi3Q"
      },
      "outputs": [],
      "source": [
        "def select_action_eps_greedy(network, state, epsilon):\n",
        "    if not isinstance(state, torch.Tensor):\n",
        "        state = torch.tensor(state, dtype=torch.float32)\n",
        "    Q_s = network(state).detach().numpy()\n",
        "\n",
        "    if np.random.rand(1)[0] <= epsilon:\n",
        "      action = np.random.randint(0, len(Q_s))\n",
        "    else:   \n",
        "      action = np.argmax(Q_s)\n",
        "    return int(action)"
      ]
    },
    {
      "cell_type": "code",
      "execution_count": 6,
      "metadata": {
        "id": "QPxb4jLxzmuB"
      },
      "outputs": [],
      "source": [
        "def train_model(states, actions, rewards, next_states, done, optimizer, gamma=0.99):\n",
        "\n",
        "  states_t = torch.tensor(states, dtype=torch.float32)           # shape: [batch_size, state_size]\n",
        "  actions_t = torch.tensor(actions, dtype=torch.long)            # shape: [batch_size]\n",
        "  rewards_t = torch.tensor(rewards, dtype=torch.float32)         # shape: [batch_size]\n",
        "  next_states_t = torch.tensor(next_states, dtype=torch.float32) #shape: [batch_size, state_size]\n",
        "  done_t = torch.tensor(done, dtype=torch.bool)               # shape: [batch_size]\n",
        "\n",
        "  predicted_qvalues = policy_model(states_t)\n",
        "  predicted_qvalues_for_actions = predicted_qvalues[range(states_t.shape[0]), actions_t]\n",
        "  predicted_next_qvalues = target_model(next_states_t)\n",
        "\n",
        "  next_state_values = torch.max(predicted_next_qvalues, 1)[0]\n",
        "  target_qvalues_for_actions = gamma * next_state_values + rewards_t\n",
        "  target_qvalues_for_actions = torch.where(done_t, rewards_t, target_qvalues_for_actions)\n",
        "\n",
        "  loss = torch.mean((predicted_qvalues_for_actions - target_qvalues_for_actions.detach()) ** 2)\n",
        "  # добавляем регуляризацию на значения Q \n",
        "  loss += 0.1 * predicted_qvalues_for_actions.mean()\n",
        "\n",
        "  optimizer.zero_grad()\n",
        "  loss.backward()\n",
        "  optimizer.step()"
      ]
    },
    {
      "cell_type": "code",
      "execution_count": 7,
      "metadata": {
        "id": "iE3GeY483oLT"
      },
      "outputs": [],
      "source": [
        "def generate_session(env, opt, logger, batch_size, policy_model, target_model, target_update, t_max=1000, epsilon=0, train=False):\n",
        "    total_reward = 0\n",
        "    s = env.reset()\n",
        "    for t in range(t_max):\n",
        "        a = select_action_eps_greedy(policy_model, s, epsilon=epsilon)\n",
        "        next_s, r, done, _ = env.step(a)\n",
        "        if train:\n",
        "            logger.add_log(np.array([s, a, r, next_s, done]))\n",
        "            train_model(np.array([s]), np.array([a]), np.array([r]), np.array([next_s]), np.array([done]), opt, gamma=0.99)\n",
        "            if logger.is_ready(batch_size):\n",
        "              states, actions, rewards, next_ss, dones = logger.sample_logs(batch_size)\n",
        "              train_model(states, actions, rewards, next_ss, dones, opt, gamma=0.99)\n",
        "              \n",
        "            if t % target_update == 0:\n",
        "              target_model.load_state_dict(policy_model.state_dict())\n",
        "\n",
        "        total_reward += r\n",
        "        s = next_s\n",
        "        if done:\n",
        "            break\n",
        "\n",
        "    return total_reward"
      ]
    },
    {
      "cell_type": "code",
      "execution_count": 8,
      "metadata": {
        "colab": {
          "base_uri": "https://localhost:8080/"
        },
        "id": "rlKf8F1fXvak",
        "outputId": "cd785e15-e617-4302-9878-3315ba936a4b"
      },
      "outputs": [
        {
          "output_type": "execute_result",
          "data": {
            "text/plain": [
              "QModel(\n",
              "  (net): Sequential(\n",
              "    (0): Linear(in_features=4, out_features=64, bias=True)\n",
              "    (1): Tanh()\n",
              "    (2): Linear(in_features=64, out_features=64, bias=True)\n",
              "    (3): Tanh()\n",
              "    (4): Linear(in_features=64, out_features=2, bias=True)\n",
              "    (5): ReLU()\n",
              "  )\n",
              ")"
            ]
          },
          "metadata": {},
          "execution_count": 8
        }
      ],
      "source": [
        "env = gym.make('CartPole-v1').unwrapped\n",
        "\n",
        "n_actions = env.action_space.n\n",
        "state_dim = env.observation_space.shape\n",
        "\n",
        "HIDDEN = 64\n",
        "policy_model = QModel(state_dim[0], n_actions, HIDDEN).to(device)\n",
        "target_model = QModel(state_dim[0], n_actions, HIDDEN).to(device)\n",
        "target_model.load_state_dict(policy_model.state_dict())\n",
        "target_model.eval()"
      ]
    },
    {
      "cell_type": "code",
      "execution_count": 9,
      "metadata": {
        "id": "1tXjypykaBcM"
      },
      "outputs": [],
      "source": [
        "BATCH_SIZE = 128\n",
        "GAMMA = 0.99\n",
        "TARGET_UPDATE = 10\n",
        "T_MAX = 500 #5000\n",
        "EPSILON = 0.7\n",
        "EPSILON_DECAY = 0.9\n",
        "LOGGER_SIZE = 1024\n",
        "\n",
        "logger = Logger(LOGGER_SIZE)\n",
        "opt = torch.optim.Adam(policy_model.parameters(), lr=1e-4)"
      ]
    },
    {
      "cell_type": "code",
      "execution_count": 10,
      "metadata": {
        "colab": {
          "base_uri": "https://localhost:8080/"
        },
        "id": "EkG1l_SO6MgU",
        "outputId": "3dace59d-fa80-4e10-8293-edc4691177a7"
      },
      "outputs": [
        {
          "output_type": "stream",
          "name": "stderr",
          "text": [
            "/usr/local/lib/python3.7/dist-packages/ipykernel_launcher.py:8: VisibleDeprecationWarning: Creating an ndarray from ragged nested sequences (which is a list-or-tuple of lists-or-tuples-or ndarrays with different lengths or shapes) is deprecated. If you meant to do this, you must specify 'dtype=object' when creating the ndarray.\n",
            "  \n"
          ]
        },
        {
          "output_type": "stream",
          "name": "stdout",
          "text": [
            "Epoch: #0\tmean reward = 17.670\tepsilon = 0.700\n",
            "Epoch: #1\tmean reward = 25.130\tepsilon = 0.630\n",
            "Epoch: #2\tmean reward = 17.940\tepsilon = 0.567\n",
            "Epoch: #3\tmean reward = 31.180\tepsilon = 0.510\n",
            "Epoch: #4\tmean reward = 56.620\tepsilon = 0.459\n",
            "Epoch: #5\tmean reward = 99.970\tepsilon = 0.413\n",
            "Epoch: #6\tmean reward = 151.570\tepsilon = 0.372\n",
            "Epoch: #7\tmean reward = 116.220\tepsilon = 0.335\n",
            "Epoch: #8\tmean reward = 280.560\tepsilon = 0.301\n",
            "Принято!\n"
          ]
        }
      ],
      "source": [
        "for i in range(150):\n",
        "    session_rewards = [generate_session(env, opt, logger, BATCH_SIZE, policy_model, target_model, TARGET_UPDATE, t_max = T_MAX, epsilon=EPSILON, train=True) for _ in range(100)]\n",
        "    print(\"Epoch: #{}\\tmean reward = {:.3f}\\tepsilon = {:.3f}\".format(i, np.mean(session_rewards), EPSILON))\n",
        "\n",
        "    EPSILON *= EPSILON_DECAY\n",
        "    if EPSILON <= 1e-4:\n",
        "      EPSILON = 0.5\n",
        "\n",
        "    if np.mean(session_rewards) >= 250.:\n",
        "        print(\"Принято!\")\n",
        "        break"
      ]
    },
    {
      "cell_type": "code",
      "execution_count": 11,
      "metadata": {
        "id": "Rwm1iSEhJzIA",
        "colab": {
          "base_uri": "https://localhost:8080/"
        },
        "outputId": "21eeda21-b62f-42d8-cfdc-76b31d683fa0"
      },
      "outputs": [
        {
          "output_type": "stream",
          "name": "stdout",
          "text": [
            "\u001b[K     |████████████████████████████████| 448 kB 5.1 MB/s \n",
            "\u001b[?25hSelecting previously unselected package python-opengl.\n",
            "(Reading database ... 155653 files and directories currently installed.)\n",
            "Preparing to unpack .../python-opengl_3.1.0+dfsg-1_all.deb ...\n",
            "Unpacking python-opengl (3.1.0+dfsg-1) ...\n",
            "Setting up python-opengl (3.1.0+dfsg-1) ...\n",
            "Selecting previously unselected package xvfb.\n",
            "(Reading database ... 158008 files and directories currently installed.)\n",
            "Preparing to unpack .../xvfb_2%3a1.19.6-1ubuntu4.11_amd64.deb ...\n",
            "Unpacking xvfb (2:1.19.6-1ubuntu4.11) ...\n",
            "Setting up xvfb (2:1.19.6-1ubuntu4.11) ...\n",
            "Processing triggers for man-db (2.8.3-2ubuntu0.1) ...\n",
            "\u001b[K     |████████████████████████████████| 67 kB 2.9 MB/s \n",
            "\u001b[?25h"
          ]
        }
      ],
      "source": [
        "try:\n",
        "    import colab\n",
        "    COLAB = True\n",
        "except ModuleNotFoundError:\n",
        "    COLAB = False\n",
        "    pass\n",
        "\n",
        "if COLAB:\n",
        "    !wget https://gist.githubusercontent.com/Tviskaron/4d35eabce2e057dd2ea49a00b00aaa41/raw/f1e25fc6ac6d8f11cb585559ce8b2ab9ffefd67b/colab_render.sh -O colab_render.sh -q\n",
        "    !sh colab_render.sh\n",
        "    !wget https://gist.githubusercontent.com/Tviskaron/d91decc1ca5f1b09af2f9f080011a925/raw/0d3474f65b4aea533996ee00edf99a37e4da5561/colab_render.py -O colab_render.py -q \n",
        "    import colab_render"
      ]
    },
    {
      "cell_type": "code",
      "execution_count": 12,
      "metadata": {
        "id": "2Fw1uPTOv3rp"
      },
      "outputs": [],
      "source": [
        "# библиотеки и функции, которые потребуются для показа видео\n",
        "\n",
        "import glob\n",
        "import io\n",
        "import base64\n",
        "from IPython import display as ipythondisplay\n",
        "from IPython.display import HTML\n",
        "from gym.envs.classic_control import rendering\n",
        "import matplotlib.pyplot as plt\n",
        "\n",
        "%matplotlib inline\n",
        "\n",
        "\n",
        "org_constructor = rendering.Viewer.__init__\n",
        "\n",
        "\n",
        "def constructor(self, *args, **kwargs):\n",
        "    org_constructor(self, *args, **kwargs)\n",
        "    self.window.set_visible(visible=False)\n",
        "\n",
        "\n",
        "rendering.Viewer.__init__ = constructor\n",
        "\n",
        "\n",
        "def show_video(folder=\"./video\"):\n",
        "    mp4list = glob.glob(folder + '/*.mp4')\n",
        "    if len(mp4list) > 0:\n",
        "        mp4 = sorted(mp4list, key=lambda x: x[-15:], reverse=True)[0]\n",
        "        video = io.open(mp4, 'r+b').read()\n",
        "        encoded = base64.b64encode(video)\n",
        "        ipythondisplay.display(HTML(data='''<video alt=\"test\" autoplay \n",
        "                loop controls style=\"height: 400px;\">\n",
        "                <source src=\"data:video/mp4;base64,{0}\" type=\"video/mp4\" />\n",
        "             </video>'''.format(encoded.decode('ascii'))))\n",
        "    else:\n",
        "        print(\"Could not find video\")"
      ]
    },
    {
      "cell_type": "code",
      "execution_count": 13,
      "metadata": {
        "id": "yPelGmJnv55c",
        "colab": {
          "base_uri": "https://localhost:8080/",
          "height": 421
        },
        "outputId": "26a7736b-333f-4116-81bf-82556ad6893e"
      },
      "outputs": [
        {
          "output_type": "display_data",
          "data": {
            "text/plain": [
              "<IPython.core.display.HTML object>"
            ],
            "text/html": [
              "<video alt=\"test\" autoplay \n",
              "                loop controls style=\"height: 400px;\">\n",
              "                <source src=\"data:video/mp4;base64,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\" type=\"video/mp4\" />\n",
              "             </video>"
            ]
          },
          "metadata": {}
        }
      ],
      "source": [
        "env = gym.make(\"CartPole-v1\")\n",
        "env = gym.wrappers.Monitor(env, \"./video\", force=True)\n",
        "\n",
        "generate_session(env, opt, logger, BATCH_SIZE, policy_model, target_model, TARGET_UPDATE, train=False)\n",
        "\n",
        "env.close()\n",
        "show_video()"
      ]
    }
  ],
  "metadata": {
    "colab": {
      "collapsed_sections": [],
      "name": "DQN",
      "provenance": [],
      "toc_visible": true,
      "authorship_tag": "ABX9TyObaEbGLlTRn8Yzck5oJQEe",
      "include_colab_link": true
    },
    "gpuClass": "standard",
    "kernelspec": {
      "display_name": "Python 3",
      "name": "python3"
    },
    "language_info": {
      "name": "python"
    }
  },
  "nbformat": 4,
  "nbformat_minor": 0
}