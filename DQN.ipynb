{
  "cells": [
    {
      "cell_type": "markdown",
      "metadata": {
        "id": "view-in-github",
        "colab_type": "text"
      },
      "source": [
        "<a href=\"https://colab.research.google.com/github/SuperCrabLover/DQN_Cart-Pole/blob/main/DQN.ipynb\" target=\"_parent\"><img src=\"https://colab.research.google.com/assets/colab-badge.svg\" alt=\"Open In Colab\"/></a>"
      ]
    },
    {
      "cell_type": "code",
      "execution_count": 1,
      "metadata": {
        "id": "MytEX6JHQyuY"
      },
      "outputs": [],
      "source": [
        "import gym\n",
        "import random\n",
        "import numpy as np\n",
        "import matplotlib\n",
        "import matplotlib.pyplot as plt\n",
        "from PIL import Image\n",
        "\n",
        "import torch\n",
        "import torch.nn as nn\n",
        "import torch.optim as optim\n",
        "import torch.nn.functional as F\n",
        "import torchvision.transforms as T"
      ]
    },
    {
      "cell_type": "code",
      "execution_count": 2,
      "metadata": {
        "colab": {
          "base_uri": "https://localhost:8080/"
        },
        "id": "NvSEEfZwQ-36",
        "outputId": "388ca09d-c757-4820-e782-3ba41bb43b38"
      },
      "outputs": [
        {
          "output_type": "stream",
          "name": "stdout",
          "text": [
            "cpu\n"
          ]
        }
      ],
      "source": [
        "device = torch.device(\"cuda\" if torch.cuda.is_available() else \"cpu\")\n",
        "print(device)"
      ]
    },
    {
      "cell_type": "code",
      "execution_count": 3,
      "metadata": {
        "id": "13T-0AZSReuO"
      },
      "outputs": [],
      "source": [
        "from numpy.random.mtrand import rand\n",
        "class Logger():\n",
        "  \n",
        "  def __init__(self, size):\n",
        "    self._len = 0\n",
        "    self._logs = []\n",
        "    self._maxlen = size\n",
        "  \n",
        "  def add_log(self, log):\n",
        "    if (self._len + 1 > self._maxlen):\n",
        "      self._logs = self._logs[int(self._len / 2):]\n",
        "      self._len = len(self._logs)\n",
        "    self._logs.append(log)\n",
        "    self._len += 1\n",
        "  \n",
        "  def sample_logs(self, batch_size):\n",
        "    if (batch_size > self._len):\n",
        "      raise ValueError\n",
        "    rand_log_inds = random.sample(range(0, self._len), batch_size)\n",
        "    temp_np_logs = np.array(self._logs)\n",
        "    samples = temp_np_logs[rand_log_inds]\n",
        "    return np.array([i[0] for i in samples]), np.array([i[1] for i in samples]), np.array([i[2] for i in samples]), np.array([i[3] for i in samples]), np.array([i[4] for i in samples])\n",
        "  \n",
        "  def is_ready(self, batch_size):\n",
        "    return self._len >= batch_size"
      ]
    },
    {
      "cell_type": "code",
      "execution_count": 4,
      "metadata": {
        "id": "U0om3e39UfzO"
      },
      "outputs": [],
      "source": [
        "class QModel(nn.Module):\n",
        "  def __init__(self, state_dim, action_dim, hidden):\n",
        "    super().__init__()\n",
        "\n",
        "    self.net = nn.Sequential(\n",
        "      nn.Linear(state_dim, hidden),\n",
        "      nn.Tanh(),\n",
        "      nn.Linear(hidden, hidden),\n",
        "      nn.Tanh(),\n",
        "      nn.Linear(hidden, action_dim),\n",
        "      nn.ReLU()\n",
        "    )\n",
        "\n",
        "  def forward(self, x):\n",
        "    x = x.to(device)\n",
        "    return self.net(x)"
      ]
    },
    {
      "cell_type": "code",
      "execution_count": 5,
      "metadata": {
        "id": "xRm5gcEQZi3Q"
      },
      "outputs": [],
      "source": [
        "def select_action_eps_greedy(network, state, epsilon):\n",
        "    if not isinstance(state, torch.Tensor):\n",
        "        state = torch.tensor(state, dtype=torch.float32)\n",
        "    Q_s = network(state).detach().numpy()\n",
        "\n",
        "    if np.random.rand(1)[0] <= epsilon:\n",
        "      action = np.random.randint(0, len(Q_s))\n",
        "    else:   \n",
        "      action = np.argmax(Q_s)\n",
        "    return int(action)"
      ]
    },
    {
      "cell_type": "code",
      "execution_count": 6,
      "metadata": {
        "id": "QPxb4jLxzmuB"
      },
      "outputs": [],
      "source": [
        "def train_model(states, actions, rewards, next_states, done, optimizer, gamma=0.99):\n",
        "\n",
        "  states_t = torch.tensor(states, dtype=torch.float32)           # shape: [batch_size, state_size]\n",
        "  actions_t = torch.tensor(actions, dtype=torch.long)            # shape: [batch_size]\n",
        "  rewards_t = torch.tensor(rewards, dtype=torch.float32)         # shape: [batch_size]\n",
        "  next_states_t = torch.tensor(next_states, dtype=torch.float32) #shape: [batch_size, state_size]\n",
        "  done_t = torch.tensor(done, dtype=torch.bool)               # shape: [batch_size]\n",
        "\n",
        "  predicted_qvalues = policy_model(states_t)\n",
        "  predicted_qvalues_for_actions = predicted_qvalues[range(states_t.shape[0]), actions_t]\n",
        "  predicted_next_qvalues = target_model(next_states_t)\n",
        "\n",
        "  next_state_values = torch.max(predicted_next_qvalues, 1)[0]\n",
        "  target_qvalues_for_actions = gamma * next_state_values + rewards_t\n",
        "  target_qvalues_for_actions = torch.where(done_t, rewards_t, target_qvalues_for_actions)\n",
        "\n",
        "  loss = torch.mean((predicted_qvalues_for_actions - target_qvalues_for_actions.detach()) ** 2)\n",
        "  # добавляем регуляризацию на значения Q \n",
        "  loss += 0.1 * predicted_qvalues_for_actions.mean()\n",
        "\n",
        "  optimizer.zero_grad()\n",
        "  loss.backward()\n",
        "  optimizer.step()"
      ]
    },
    {
      "cell_type": "code",
      "execution_count": 7,
      "metadata": {
        "id": "iE3GeY483oLT"
      },
      "outputs": [],
      "source": [
        "def generate_session(env, opt, logger, batch_size, policy_model, target_model, target_update, t_max=1000, epsilon=0, train=False):\n",
        "    total_reward = 0\n",
        "    s = env.reset()\n",
        "    for t in range(t_max):\n",
        "        a = select_action_eps_greedy(policy_model, s, epsilon=epsilon)\n",
        "        next_s, r, done, _ = env.step(a)\n",
        "        logger.add_log(np.array([s, a, r, next_s, done]))\n",
        "        if train:\n",
        "            if logger.is_ready(batch_size):\n",
        "              train_model(np.array([s]), np.array([a]), np.array([r]), np.array([next_s]), np.array([done]), opt, gamma=0.99)\n",
        "              states, actions, rewards, next_ss, dones = logger.sample_logs(batch_size)\n",
        "              train_model(states, actions, rewards, next_ss, dones, opt, gamma=0.99)\n",
        "            else:\n",
        "              train_model(np.array([s]), np.array([a]), np.array([r]), np.array([next_s]), np.array([done]), opt, gamma=0.99)\n",
        "            if t % target_update == 0:\n",
        "              target_model.load_state_dict(policy_model.state_dict())\n",
        "\n",
        "        total_reward += r\n",
        "        s = next_s\n",
        "        if done:\n",
        "            break\n",
        "\n",
        "    return total_reward"
      ]
    },
    {
      "cell_type": "code",
      "execution_count": 8,
      "metadata": {
        "colab": {
          "base_uri": "https://localhost:8080/"
        },
        "id": "rlKf8F1fXvak",
        "outputId": "8077692e-e138-4dea-972d-b2d9c19ed858"
      },
      "outputs": [
        {
          "output_type": "execute_result",
          "data": {
            "text/plain": [
              "QModel(\n",
              "  (net): Sequential(\n",
              "    (0): Linear(in_features=4, out_features=64, bias=True)\n",
              "    (1): Tanh()\n",
              "    (2): Linear(in_features=64, out_features=64, bias=True)\n",
              "    (3): Tanh()\n",
              "    (4): Linear(in_features=64, out_features=2, bias=True)\n",
              "    (5): ReLU()\n",
              "  )\n",
              ")"
            ]
          },
          "metadata": {},
          "execution_count": 8
        }
      ],
      "source": [
        "env = gym.make('CartPole-v1').unwrapped\n",
        "\n",
        "n_actions = env.action_space.n\n",
        "state_dim = env.observation_space.shape\n",
        "\n",
        "HIDDEN = 64\n",
        "policy_model = QModel(state_dim[0], n_actions, HIDDEN).to(device)\n",
        "target_model = QModel(state_dim[0], n_actions, HIDDEN).to(device)\n",
        "target_model.load_state_dict(policy_model.state_dict())\n",
        "target_model.eval()"
      ]
    },
    {
      "cell_type": "code",
      "execution_count": 9,
      "metadata": {
        "id": "1tXjypykaBcM"
      },
      "outputs": [],
      "source": [
        "BATCH_SIZE = 128\n",
        "GAMMA = 0.99\n",
        "TARGET_UPDATE = 10\n",
        "T_MAX = 500 #5000\n",
        "EPSILON = 0.7\n",
        "EPSILON_DECAY = 0.9\n",
        "LOGGER_SIZE = 1024\n",
        "\n",
        "logger = Logger(LOGGER_SIZE)\n",
        "opt = torch.optim.Adam(policy_model.parameters(), lr=1e-4)"
      ]
    },
    {
      "cell_type": "code",
      "execution_count": 10,
      "metadata": {
        "colab": {
          "base_uri": "https://localhost:8080/"
        },
        "id": "EkG1l_SO6MgU",
        "outputId": "b9884e55-8b19-4d8e-967e-77a551a4a643"
      },
      "outputs": [
        {
          "metadata": {
            "tags": null
          },
          "name": "stderr",
          "output_type": "stream",
          "text": [
            "/usr/local/lib/python3.7/dist-packages/ipykernel_launcher.py:7: VisibleDeprecationWarning: Creating an ndarray from ragged nested sequences (which is a list-or-tuple of lists-or-tuples-or ndarrays with different lengths or shapes) is deprecated. If you meant to do this, you must specify 'dtype=object' when creating the ndarray.\n",
            "  import sys\n"
          ]
        },
        {
          "output_type": "stream",
          "name": "stdout",
          "text": [
            "Epoch: #0\tmean reward = 19.890\tepsilon = 0.700\n",
            "Epoch: #1\tmean reward = 22.170\tepsilon = 0.630\n",
            "Epoch: #2\tmean reward = 32.260\tepsilon = 0.567\n",
            "Epoch: #3\tmean reward = 38.460\tepsilon = 0.510\n",
            "Epoch: #4\tmean reward = 58.150\tepsilon = 0.459\n",
            "Epoch: #5\tmean reward = 119.140\tepsilon = 0.413\n",
            "Epoch: #6\tmean reward = 204.610\tepsilon = 0.372\n",
            "Epoch: #7\tmean reward = 275.450\tepsilon = 0.335\n",
            "Принято!\n"
          ]
        }
      ],
      "source": [
        "for i in range(150):\n",
        "    session_rewards = [generate_session(env, opt, logger, BATCH_SIZE, policy_model, target_model, TARGET_UPDATE, t_max = T_MAX, epsilon=EPSILON, train=True) for _ in range(100)]\n",
        "    print(\"Epoch: #{}\\tmean reward = {:.3f}\\tepsilon = {:.3f}\".format(i, np.mean(session_rewards), EPSILON))\n",
        "\n",
        "    EPSILON *= EPSILON_DECAY\n",
        "    if EPSILON <= 1e-4:\n",
        "      EPSILON = 0.5\n",
        "\n",
        "    if np.mean(session_rewards) >= 250.:\n",
        "        print(\"Принято!\")\n",
        "        break"
      ]
    },
    {
      "cell_type": "code",
      "execution_count": 11,
      "metadata": {
        "id": "Rwm1iSEhJzIA"
      },
      "outputs": [],
      "source": [
        "try:\n",
        "    import colab\n",
        "    COLAB = True\n",
        "except ModuleNotFoundError:\n",
        "    COLAB = False\n",
        "    pass\n",
        "\n",
        "if COLAB:\n",
        "    !wget https://gist.githubusercontent.com/Tviskaron/4d35eabce2e057dd2ea49a00b00aaa41/raw/f1e25fc6ac6d8f11cb585559ce8b2ab9ffefd67b/colab_render.sh -O colab_render.sh -q\n",
        "    !sh colab_render.sh\n",
        "    !wget https://gist.githubusercontent.com/Tviskaron/d91decc1ca5f1b09af2f9f080011a925/raw/0d3474f65b4aea533996ee00edf99a37e4da5561/colab_render.py -O colab_render.py -q \n",
        "    import colab_render"
      ]
    },
    {
      "cell_type": "code",
      "execution_count": 12,
      "metadata": {
        "id": "2Fw1uPTOv3rp"
      },
      "outputs": [],
      "source": [
        "# библиотеки и функции, которые потребуются для показа видео\n",
        "\n",
        "import glob\n",
        "import io\n",
        "import base64\n",
        "from IPython import display as ipythondisplay\n",
        "from IPython.display import HTML\n",
        "from gym.envs.classic_control import rendering\n",
        "import matplotlib.pyplot as plt\n",
        "\n",
        "%matplotlib inline\n",
        "\n",
        "\n",
        "org_constructor = rendering.Viewer.__init__\n",
        "\n",
        "\n",
        "def constructor(self, *args, **kwargs):\n",
        "    org_constructor(self, *args, **kwargs)\n",
        "    self.window.set_visible(visible=False)\n",
        "\n",
        "\n",
        "rendering.Viewer.__init__ = constructor\n",
        "\n",
        "\n",
        "def show_video(folder=\"./video\"):\n",
        "    mp4list = glob.glob(folder + '/*.mp4')\n",
        "    if len(mp4list) > 0:\n",
        "        mp4 = sorted(mp4list, key=lambda x: x[-15:], reverse=True)[0]\n",
        "        video = io.open(mp4, 'r+b').read()\n",
        "        encoded = base64.b64encode(video)\n",
        "        ipythondisplay.display(HTML(data='''<video alt=\"test\" autoplay \n",
        "                loop controls style=\"height: 400px;\">\n",
        "                <source src=\"data:video/mp4;base64,{0}\" type=\"video/mp4\" />\n",
        "             </video>'''.format(encoded.decode('ascii'))))\n",
        "    else:\n",
        "        print(\"Could not find video\")"
      ]
    },
    {
      "cell_type": "code",
      "execution_count": 13,
      "metadata": {
        "id": "yPelGmJnv55c",
        "colab": {
          "base_uri": "https://localhost:8080/",
          "height": 477
        },
        "outputId": "b6a5cf88-1ee0-43b4-9f66-0d914be4bc95"
      },
      "outputs": [
        {
          "output_type": "stream",
          "name": "stderr",
          "text": [
            "/usr/local/lib/python3.7/dist-packages/ipykernel_launcher.py:7: VisibleDeprecationWarning: Creating an ndarray from ragged nested sequences (which is a list-or-tuple of lists-or-tuples-or ndarrays with different lengths or shapes) is deprecated. If you meant to do this, you must specify 'dtype=object' when creating the ndarray.\n",
            "  import sys\n"
          ]
        },
        {
          "output_type": "display_data",
          "data": {
            "text/plain": [
              "<IPython.core.display.HTML object>"
            ],
            "text/html": [
              "<video alt=\"test\" autoplay \n",
              "                loop controls style=\"height: 400px;\">\n",
              "                <source src=\"data:video/mp4;base64,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\" type=\"video/mp4\" />\n",
              "             </video>"
            ]
          },
          "metadata": {}
        }
      ],
      "source": [
        "env = gym.make(\"CartPole-v1\")\n",
        "env = gym.wrappers.Monitor(env, \"./video\", force=True)\n",
        "\n",
        "generate_session(env, opt, logger, BATCH_SIZE, policy_model, target_model, TARGET_UPDATE, epsilon=EPSILON, train=False)\n",
        "\n",
        "env.close()\n",
        "show_video()"
      ]
    },
    {
      "cell_type": "code",
      "execution_count": 13,
      "metadata": {
        "id": "OfZLevqXwCGo"
      },
      "outputs": [],
      "source": [
        ""
      ]
    }
  ],
  "metadata": {
    "colab": {
      "collapsed_sections": [],
      "name": "DQN",
      "provenance": [],
      "toc_visible": true,
      "authorship_tag": "ABX9TyPyYTCSVIJweNIgbSZ0LA6U",
      "include_colab_link": true
    },
    "gpuClass": "standard",
    "kernelspec": {
      "display_name": "Python 3",
      "name": "python3"
    },
    "language_info": {
      "name": "python"
    }
  },
  "nbformat": 4,
  "nbformat_minor": 0
}